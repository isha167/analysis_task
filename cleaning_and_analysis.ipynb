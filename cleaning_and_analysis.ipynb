{
 "cells": [
  {
   "cell_type": "code",
   "execution_count": 8,
   "id": "146e4c69",
   "metadata": {},
   "outputs": [],
   "source": [
    "#importing the required dependencies \n",
    "import pandas as pd\n",
    "import numpy as np\n",
    "import scipy.stats as st\n",
    "import matplotlib.pyplot as plt\n",
    "import seaborn as sns\n",
    "from matplotlib.pyplot import figure"
   ]
  },
  {
   "cell_type": "markdown",
   "id": "1338b46f",
   "metadata": {},
   "source": [
    "### Text files to CSV"
   ]
  },
  {
   "cell_type": "code",
   "execution_count": 9,
   "id": "5301b2ff",
   "metadata": {},
   "outputs": [],
   "source": [
    "#converting the provided text files to csv for analysis\n",
    "read_file = pd.read_csv (r'text_files/Attributes.txt')\n",
    "read_file.to_csv (r'csv_files/Attributes.csv', index=None)\n",
    "\n",
    "read_file = pd.read_csv (r'text_files/GasDemand.txt')\n",
    "read_file.to_csv (r'csv_files/GasDemand.csv', index=None)\n",
    "\n",
    "read_file = pd.read_csv (r'text_files/Weather.txt')\n",
    "read_file.to_csv (r'csv_files/Weather.csv', index=None)"
   ]
  },
  {
   "cell_type": "markdown",
   "id": "1dd7c5ac",
   "metadata": {},
   "source": [
    " ### Read CSV into dataframe and display"
   ]
  },
  {
   "cell_type": "code",
   "execution_count": 10,
   "id": "068927fa",
   "metadata": {},
   "outputs": [
    {
     "name": "stdout",
     "output_type": "stream",
     "text": [
      "    GAS_FLOW_DAY GEO_LOCATION   CWV\n",
      "0     01/04/2019           SC  5.65\n",
      "1     01/04/2019           WM  8.18\n",
      "2     02/04/2019           SC  5.14\n",
      "3     02/04/2019           WM  6.47\n",
      "4     03/04/2019           SC  4.21\n",
      "..           ...          ...   ...\n",
      "727   29/03/2020           WM  4.98\n",
      "728   30/03/2020           SC  6.45\n",
      "729   30/03/2020           WM  5.39\n",
      "730   31/03/2020           SC  6.57\n",
      "731   31/03/2020           WM  6.14\n",
      "\n",
      "[732 rows x 3 columns]\n",
      "\n",
      "Dataypes:\n",
      "GAS_FLOW_DAY     object\n",
      "GEO_LOCATION     object\n",
      "CWV             float64\n",
      "dtype: object\n"
     ]
    }
   ],
   "source": [
    "#weather csv into df\n",
    "weather_df = pd.read_csv('csv_files/Weather.csv')\n",
    "print (weather_df)\n",
    "print (f\"\\nDataypes:\\n{weather_df.dtypes}\")"
   ]
  },
  {
   "cell_type": "code",
   "execution_count": 11,
   "id": "d5053200",
   "metadata": {},
   "outputs": [
    {
     "name": "stdout",
     "output_type": "stream",
     "text": [
      "  SITE_REFERENCE GEO_LOCATION MARKET_SECTOR_IDENTIFIER  ANNUAL_USAGE\n",
      "0           WM01           WM                        D          2764\n",
      "1           SC01           SC                        D          4980\n",
      "2           SC02           SC                        D          5987\n",
      "3           WM02           WM                        D          7021\n",
      "4           SC03           SC                        D          8189\n",
      "\n",
      "Dataypes:\n",
      "SITE_REFERENCE              object\n",
      "GEO_LOCATION                object\n",
      "MARKET_SECTOR_IDENTIFIER    object\n",
      "ANNUAL_USAGE                 int64\n",
      "dtype: object\n"
     ]
    }
   ],
   "source": [
    "#attributes into df\n",
    "attributes_df = pd.read_csv('csv_files/Attributes.csv')\n",
    "print (attributes_df.head())\n",
    "print (f\"\\nDataypes:\\n{attributes_df.dtypes}\")\n"
   ]
  },
  {
   "cell_type": "code",
   "execution_count": 12,
   "id": "e001ed00",
   "metadata": {
    "scrolled": false
   },
   "outputs": [
    {
     "name": "stdout",
     "output_type": "stream",
     "text": [
      "      SITE_REFERENCE GAS_FLOW_DAY  ENERGY_VALUE\n",
      "0               SC01   01/04/2019          0.00\n",
      "1               SC01   02/04/2019          0.00\n",
      "2               SC01   03/04/2019          0.00\n",
      "3               SC01   04/04/2019          0.00\n",
      "4               SC01   05/04/2019         10.93\n",
      "...              ...          ...           ...\n",
      "18235           WM25   27/03/2020      41580.00\n",
      "18236           WM25   28/03/2020      33246.00\n",
      "18237           WM25   29/03/2020      37335.00\n",
      "18238           WM25   30/03/2020      49265.00\n",
      "18239           WM25   31/03/2020      44986.00\n",
      "\n",
      "[18240 rows x 3 columns]\n",
      "\n",
      "Dataypes:\n",
      "SITE_REFERENCE     object\n",
      "GAS_FLOW_DAY       object\n",
      "ENERGY_VALUE      float64\n",
      "dtype: object\n"
     ]
    }
   ],
   "source": [
    "#Gasdemand into df\n",
    "gasdemand_df = pd.read_csv('csv_files/Gasdemand.csv')\n",
    "print(gasdemand_df)\n",
    "print(f\"\\nDataypes:\\n{gasdemand_df.dtypes}\")"
   ]
  },
  {
   "cell_type": "markdown",
   "id": "25f57d38",
   "metadata": {},
   "source": [
    "### Finding Null and Duplicates "
   ]
  },
  {
   "cell_type": "code",
   "execution_count": 13,
   "id": "7e73707d",
   "metadata": {},
   "outputs": [
    {
     "data": {
      "text/html": [
       "<div>\n",
       "<style scoped>\n",
       "    .dataframe tbody tr th:only-of-type {\n",
       "        vertical-align: middle;\n",
       "    }\n",
       "\n",
       "    .dataframe tbody tr th {\n",
       "        vertical-align: top;\n",
       "    }\n",
       "\n",
       "    .dataframe thead th {\n",
       "        text-align: right;\n",
       "    }\n",
       "</style>\n",
       "<table border=\"1\" class=\"dataframe\">\n",
       "  <thead>\n",
       "    <tr style=\"text-align: right;\">\n",
       "      <th></th>\n",
       "      <th>GAS_FLOW_DAY</th>\n",
       "      <th>GEO_LOCATION</th>\n",
       "      <th>CWV</th>\n",
       "    </tr>\n",
       "  </thead>\n",
       "  <tbody>\n",
       "  </tbody>\n",
       "</table>\n",
       "</div>"
      ],
      "text/plain": [
       "Empty DataFrame\n",
       "Columns: [GAS_FLOW_DAY, GEO_LOCATION, CWV]\n",
       "Index: []"
      ]
     },
     "execution_count": 13,
     "metadata": {},
     "output_type": "execute_result"
    }
   ],
   "source": [
    "weather_null = weather_df[weather_df.isna().any(axis=1)]\n",
    "weather_null\n"
   ]
  },
  {
   "cell_type": "code",
   "execution_count": 14,
   "id": "f6fbfd89",
   "metadata": {},
   "outputs": [
    {
     "data": {
      "text/html": [
       "<div>\n",
       "<style scoped>\n",
       "    .dataframe tbody tr th:only-of-type {\n",
       "        vertical-align: middle;\n",
       "    }\n",
       "\n",
       "    .dataframe tbody tr th {\n",
       "        vertical-align: top;\n",
       "    }\n",
       "\n",
       "    .dataframe thead th {\n",
       "        text-align: right;\n",
       "    }\n",
       "</style>\n",
       "<table border=\"1\" class=\"dataframe\">\n",
       "  <thead>\n",
       "    <tr style=\"text-align: right;\">\n",
       "      <th></th>\n",
       "      <th>GAS_FLOW_DAY</th>\n",
       "      <th>GEO_LOCATION</th>\n",
       "      <th>CWV</th>\n",
       "    </tr>\n",
       "  </thead>\n",
       "  <tbody>\n",
       "  </tbody>\n",
       "</table>\n",
       "</div>"
      ],
      "text/plain": [
       "Empty DataFrame\n",
       "Columns: [GAS_FLOW_DAY, GEO_LOCATION, CWV]\n",
       "Index: []"
      ]
     },
     "execution_count": 14,
     "metadata": {},
     "output_type": "execute_result"
    }
   ],
   "source": [
    "weather_dup = weather_df[weather_df.duplicated(keep=False)]\n",
    "weather_dup"
   ]
  },
  {
   "cell_type": "markdown",
   "id": "937bf71f",
   "metadata": {},
   "source": [
    "#### Comments-No Null and Duplicates in weather_df "
   ]
  },
  {
   "cell_type": "code",
   "execution_count": 15,
   "id": "fe6f9668",
   "metadata": {},
   "outputs": [
    {
     "data": {
      "text/html": [
       "<div>\n",
       "<style scoped>\n",
       "    .dataframe tbody tr th:only-of-type {\n",
       "        vertical-align: middle;\n",
       "    }\n",
       "\n",
       "    .dataframe tbody tr th {\n",
       "        vertical-align: top;\n",
       "    }\n",
       "\n",
       "    .dataframe thead th {\n",
       "        text-align: right;\n",
       "    }\n",
       "</style>\n",
       "<table border=\"1\" class=\"dataframe\">\n",
       "  <thead>\n",
       "    <tr style=\"text-align: right;\">\n",
       "      <th></th>\n",
       "      <th>SITE_REFERENCE</th>\n",
       "      <th>GEO_LOCATION</th>\n",
       "      <th>MARKET_SECTOR_IDENTIFIER</th>\n",
       "      <th>ANNUAL_USAGE</th>\n",
       "    </tr>\n",
       "  </thead>\n",
       "  <tbody>\n",
       "  </tbody>\n",
       "</table>\n",
       "</div>"
      ],
      "text/plain": [
       "Empty DataFrame\n",
       "Columns: [SITE_REFERENCE, GEO_LOCATION, MARKET_SECTOR_IDENTIFIER, ANNUAL_USAGE]\n",
       "Index: []"
      ]
     },
     "execution_count": 15,
     "metadata": {},
     "output_type": "execute_result"
    }
   ],
   "source": [
    "attributes_null= attributes_df[attributes_df.isna().any(axis=1)]\n",
    "attributes_null"
   ]
  },
  {
   "cell_type": "code",
   "execution_count": 16,
   "id": "60edb4a8",
   "metadata": {},
   "outputs": [
    {
     "data": {
      "text/html": [
       "<div>\n",
       "<style scoped>\n",
       "    .dataframe tbody tr th:only-of-type {\n",
       "        vertical-align: middle;\n",
       "    }\n",
       "\n",
       "    .dataframe tbody tr th {\n",
       "        vertical-align: top;\n",
       "    }\n",
       "\n",
       "    .dataframe thead th {\n",
       "        text-align: right;\n",
       "    }\n",
       "</style>\n",
       "<table border=\"1\" class=\"dataframe\">\n",
       "  <thead>\n",
       "    <tr style=\"text-align: right;\">\n",
       "      <th></th>\n",
       "      <th>SITE_REFERENCE</th>\n",
       "      <th>GEO_LOCATION</th>\n",
       "      <th>MARKET_SECTOR_IDENTIFIER</th>\n",
       "      <th>ANNUAL_USAGE</th>\n",
       "    </tr>\n",
       "  </thead>\n",
       "  <tbody>\n",
       "  </tbody>\n",
       "</table>\n",
       "</div>"
      ],
      "text/plain": [
       "Empty DataFrame\n",
       "Columns: [SITE_REFERENCE, GEO_LOCATION, MARKET_SECTOR_IDENTIFIER, ANNUAL_USAGE]\n",
       "Index: []"
      ]
     },
     "execution_count": 16,
     "metadata": {},
     "output_type": "execute_result"
    }
   ],
   "source": [
    "attributes_dup = attributes_df[attributes_df.duplicated(keep=False)]\n",
    "attributes_dup"
   ]
  },
  {
   "cell_type": "markdown",
   "id": "4ca2d143",
   "metadata": {},
   "source": [
    "#### Comments-No Null and Duplicates in attributes_df "
   ]
  },
  {
   "cell_type": "code",
   "execution_count": 17,
   "id": "380b7382",
   "metadata": {},
   "outputs": [
    {
     "data": {
      "text/html": [
       "<div>\n",
       "<style scoped>\n",
       "    .dataframe tbody tr th:only-of-type {\n",
       "        vertical-align: middle;\n",
       "    }\n",
       "\n",
       "    .dataframe tbody tr th {\n",
       "        vertical-align: top;\n",
       "    }\n",
       "\n",
       "    .dataframe thead th {\n",
       "        text-align: right;\n",
       "    }\n",
       "</style>\n",
       "<table border=\"1\" class=\"dataframe\">\n",
       "  <thead>\n",
       "    <tr style=\"text-align: right;\">\n",
       "      <th></th>\n",
       "      <th>SITE_REFERENCE</th>\n",
       "      <th>GAS_FLOW_DAY</th>\n",
       "      <th>ENERGY_VALUE</th>\n",
       "    </tr>\n",
       "  </thead>\n",
       "  <tbody>\n",
       "  </tbody>\n",
       "</table>\n",
       "</div>"
      ],
      "text/plain": [
       "Empty DataFrame\n",
       "Columns: [SITE_REFERENCE, GAS_FLOW_DAY, ENERGY_VALUE]\n",
       "Index: []"
      ]
     },
     "execution_count": 17,
     "metadata": {},
     "output_type": "execute_result"
    }
   ],
   "source": [
    "#finding null values \n",
    "gasdemands_null=gasdemand_df[gasdemand_df.isna().any(axis=1)]\n",
    "gasdemands_null"
   ]
  },
  {
   "cell_type": "code",
   "execution_count": 18,
   "id": "38e4e027",
   "metadata": {},
   "outputs": [
    {
     "data": {
      "text/html": [
       "<div>\n",
       "<style scoped>\n",
       "    .dataframe tbody tr th:only-of-type {\n",
       "        vertical-align: middle;\n",
       "    }\n",
       "\n",
       "    .dataframe tbody tr th {\n",
       "        vertical-align: top;\n",
       "    }\n",
       "\n",
       "    .dataframe thead th {\n",
       "        text-align: right;\n",
       "    }\n",
       "</style>\n",
       "<table border=\"1\" class=\"dataframe\">\n",
       "  <thead>\n",
       "    <tr style=\"text-align: right;\">\n",
       "      <th></th>\n",
       "      <th>SITE_REFERENCE</th>\n",
       "      <th>GAS_FLOW_DAY</th>\n",
       "      <th>ENERGY_VALUE</th>\n",
       "    </tr>\n",
       "  </thead>\n",
       "  <tbody>\n",
       "    <tr>\n",
       "      <th>296</th>\n",
       "      <td>SC01</td>\n",
       "      <td>22/01/2020</td>\n",
       "      <td>0.00</td>\n",
       "    </tr>\n",
       "    <tr>\n",
       "      <th>297</th>\n",
       "      <td>SC01</td>\n",
       "      <td>22/01/2020</td>\n",
       "      <td>0.00</td>\n",
       "    </tr>\n",
       "    <tr>\n",
       "      <th>9503</th>\n",
       "      <td>WM02</td>\n",
       "      <td>07/04/2019</td>\n",
       "      <td>11.04</td>\n",
       "    </tr>\n",
       "    <tr>\n",
       "      <th>9504</th>\n",
       "      <td>WM02</td>\n",
       "      <td>07/04/2019</td>\n",
       "      <td>11.04</td>\n",
       "    </tr>\n",
       "    <tr>\n",
       "      <th>9508</th>\n",
       "      <td>WM02</td>\n",
       "      <td>12/04/2019</td>\n",
       "      <td>11.02</td>\n",
       "    </tr>\n",
       "    <tr>\n",
       "      <th>9509</th>\n",
       "      <td>WM02</td>\n",
       "      <td>12/04/2019</td>\n",
       "      <td>11.02</td>\n",
       "    </tr>\n",
       "    <tr>\n",
       "      <th>9510</th>\n",
       "      <td>WM02</td>\n",
       "      <td>12/04/2019</td>\n",
       "      <td>11.02</td>\n",
       "    </tr>\n",
       "    <tr>\n",
       "      <th>9511</th>\n",
       "      <td>WM02</td>\n",
       "      <td>12/04/2019</td>\n",
       "      <td>11.02</td>\n",
       "    </tr>\n",
       "    <tr>\n",
       "      <th>9838</th>\n",
       "      <td>WM02</td>\n",
       "      <td>07/03/2020</td>\n",
       "      <td>22.40</td>\n",
       "    </tr>\n",
       "    <tr>\n",
       "      <th>9839</th>\n",
       "      <td>WM02</td>\n",
       "      <td>07/03/2020</td>\n",
       "      <td>22.40</td>\n",
       "    </tr>\n",
       "  </tbody>\n",
       "</table>\n",
       "</div>"
      ],
      "text/plain": [
       "     SITE_REFERENCE GAS_FLOW_DAY  ENERGY_VALUE\n",
       "296            SC01   22/01/2020          0.00\n",
       "297            SC01   22/01/2020          0.00\n",
       "9503           WM02   07/04/2019         11.04\n",
       "9504           WM02   07/04/2019         11.04\n",
       "9508           WM02   12/04/2019         11.02\n",
       "9509           WM02   12/04/2019         11.02\n",
       "9510           WM02   12/04/2019         11.02\n",
       "9511           WM02   12/04/2019         11.02\n",
       "9838           WM02   07/03/2020         22.40\n",
       "9839           WM02   07/03/2020         22.40"
      ]
     },
     "execution_count": 18,
     "metadata": {},
     "output_type": "execute_result"
    }
   ],
   "source": [
    "#finding duplicates\n",
    "gasdemand_dup =gasdemand_df[gasdemand_df.duplicated(keep=False)]\n",
    "gasdemand_dup"
   ]
  },
  {
   "cell_type": "code",
   "execution_count": 19,
   "id": "d80bcd35",
   "metadata": {},
   "outputs": [],
   "source": [
    "#dropping the duplicates\n",
    "gasdemand_df=gasdemand_df.drop_duplicates()"
   ]
  },
  {
   "cell_type": "code",
   "execution_count": 20,
   "id": "a436fe15",
   "metadata": {},
   "outputs": [
    {
     "data": {
      "text/html": [
       "<div>\n",
       "<style scoped>\n",
       "    .dataframe tbody tr th:only-of-type {\n",
       "        vertical-align: middle;\n",
       "    }\n",
       "\n",
       "    .dataframe tbody tr th {\n",
       "        vertical-align: top;\n",
       "    }\n",
       "\n",
       "    .dataframe thead th {\n",
       "        text-align: right;\n",
       "    }\n",
       "</style>\n",
       "<table border=\"1\" class=\"dataframe\">\n",
       "  <thead>\n",
       "    <tr style=\"text-align: right;\">\n",
       "      <th></th>\n",
       "      <th>SITE_REFERENCE</th>\n",
       "      <th>GAS_FLOW_DAY</th>\n",
       "      <th>ENERGY_VALUE</th>\n",
       "    </tr>\n",
       "  </thead>\n",
       "  <tbody>\n",
       "  </tbody>\n",
       "</table>\n",
       "</div>"
      ],
      "text/plain": [
       "Empty DataFrame\n",
       "Columns: [SITE_REFERENCE, GAS_FLOW_DAY, ENERGY_VALUE]\n",
       "Index: []"
      ]
     },
     "execution_count": 20,
     "metadata": {},
     "output_type": "execute_result"
    }
   ],
   "source": [
    "# checking for duplicates after drop\n",
    "gasdemand_dup2 =gasdemand_df[gasdemand_df.duplicated(keep=False)]\n",
    "gasdemand_dup2"
   ]
  },
  {
   "cell_type": "markdown",
   "id": "34868daf",
   "metadata": {},
   "source": [
    "#### Comments - No Null in gasdemand_df but it has duplicates which are dropped "
   ]
  },
  {
   "cell_type": "markdown",
   "id": "973ec5ea",
   "metadata": {},
   "source": [
    "### Merging the dataframes "
   ]
  },
  {
   "cell_type": "code",
   "execution_count": 21,
   "id": "d04bd6f1",
   "metadata": {},
   "outputs": [
    {
     "data": {
      "text/html": [
       "<div>\n",
       "<style scoped>\n",
       "    .dataframe tbody tr th:only-of-type {\n",
       "        vertical-align: middle;\n",
       "    }\n",
       "\n",
       "    .dataframe tbody tr th {\n",
       "        vertical-align: top;\n",
       "    }\n",
       "\n",
       "    .dataframe thead th {\n",
       "        text-align: right;\n",
       "    }\n",
       "</style>\n",
       "<table border=\"1\" class=\"dataframe\">\n",
       "  <thead>\n",
       "    <tr style=\"text-align: right;\">\n",
       "      <th></th>\n",
       "      <th>GAS_FLOW_DAY</th>\n",
       "      <th>GEO_LOCATION</th>\n",
       "      <th>CWV</th>\n",
       "      <th>SITE_REFERENCE</th>\n",
       "      <th>MARKET_SECTOR_IDENTIFIER</th>\n",
       "      <th>ANNUAL_USAGE</th>\n",
       "    </tr>\n",
       "  </thead>\n",
       "  <tbody>\n",
       "    <tr>\n",
       "      <th>0</th>\n",
       "      <td>01/04/2019</td>\n",
       "      <td>SC</td>\n",
       "      <td>5.65</td>\n",
       "      <td>SC01</td>\n",
       "      <td>D</td>\n",
       "      <td>4980</td>\n",
       "    </tr>\n",
       "    <tr>\n",
       "      <th>1</th>\n",
       "      <td>01/04/2019</td>\n",
       "      <td>SC</td>\n",
       "      <td>5.65</td>\n",
       "      <td>SC02</td>\n",
       "      <td>D</td>\n",
       "      <td>5987</td>\n",
       "    </tr>\n",
       "    <tr>\n",
       "      <th>2</th>\n",
       "      <td>01/04/2019</td>\n",
       "      <td>SC</td>\n",
       "      <td>5.65</td>\n",
       "      <td>SC03</td>\n",
       "      <td>D</td>\n",
       "      <td>8189</td>\n",
       "    </tr>\n",
       "    <tr>\n",
       "      <th>3</th>\n",
       "      <td>01/04/2019</td>\n",
       "      <td>SC</td>\n",
       "      <td>5.65</td>\n",
       "      <td>SC04</td>\n",
       "      <td>D</td>\n",
       "      <td>8441</td>\n",
       "    </tr>\n",
       "    <tr>\n",
       "      <th>4</th>\n",
       "      <td>01/04/2019</td>\n",
       "      <td>SC</td>\n",
       "      <td>5.65</td>\n",
       "      <td>SC05</td>\n",
       "      <td>D</td>\n",
       "      <td>14938</td>\n",
       "    </tr>\n",
       "    <tr>\n",
       "      <th>...</th>\n",
       "      <td>...</td>\n",
       "      <td>...</td>\n",
       "      <td>...</td>\n",
       "      <td>...</td>\n",
       "      <td>...</td>\n",
       "      <td>...</td>\n",
       "    </tr>\n",
       "    <tr>\n",
       "      <th>18295</th>\n",
       "      <td>31/03/2020</td>\n",
       "      <td>WM</td>\n",
       "      <td>6.14</td>\n",
       "      <td>WM21</td>\n",
       "      <td>I</td>\n",
       "      <td>11057895</td>\n",
       "    </tr>\n",
       "    <tr>\n",
       "      <th>18296</th>\n",
       "      <td>31/03/2020</td>\n",
       "      <td>WM</td>\n",
       "      <td>6.14</td>\n",
       "      <td>WM22</td>\n",
       "      <td>I</td>\n",
       "      <td>11595710</td>\n",
       "    </tr>\n",
       "    <tr>\n",
       "      <th>18297</th>\n",
       "      <td>31/03/2020</td>\n",
       "      <td>WM</td>\n",
       "      <td>6.14</td>\n",
       "      <td>WM23</td>\n",
       "      <td>I</td>\n",
       "      <td>11604373</td>\n",
       "    </tr>\n",
       "    <tr>\n",
       "      <th>18298</th>\n",
       "      <td>31/03/2020</td>\n",
       "      <td>WM</td>\n",
       "      <td>6.14</td>\n",
       "      <td>WM24</td>\n",
       "      <td>I</td>\n",
       "      <td>12809828</td>\n",
       "    </tr>\n",
       "    <tr>\n",
       "      <th>18299</th>\n",
       "      <td>31/03/2020</td>\n",
       "      <td>WM</td>\n",
       "      <td>6.14</td>\n",
       "      <td>WM25</td>\n",
       "      <td>I</td>\n",
       "      <td>14023483</td>\n",
       "    </tr>\n",
       "  </tbody>\n",
       "</table>\n",
       "<p>18300 rows × 6 columns</p>\n",
       "</div>"
      ],
      "text/plain": [
       "      GAS_FLOW_DAY GEO_LOCATION   CWV SITE_REFERENCE MARKET_SECTOR_IDENTIFIER  \\\n",
       "0       01/04/2019           SC  5.65           SC01                        D   \n",
       "1       01/04/2019           SC  5.65           SC02                        D   \n",
       "2       01/04/2019           SC  5.65           SC03                        D   \n",
       "3       01/04/2019           SC  5.65           SC04                        D   \n",
       "4       01/04/2019           SC  5.65           SC05                        D   \n",
       "...            ...          ...   ...            ...                      ...   \n",
       "18295   31/03/2020           WM  6.14           WM21                        I   \n",
       "18296   31/03/2020           WM  6.14           WM22                        I   \n",
       "18297   31/03/2020           WM  6.14           WM23                        I   \n",
       "18298   31/03/2020           WM  6.14           WM24                        I   \n",
       "18299   31/03/2020           WM  6.14           WM25                        I   \n",
       "\n",
       "       ANNUAL_USAGE  \n",
       "0              4980  \n",
       "1              5987  \n",
       "2              8189  \n",
       "3              8441  \n",
       "4             14938  \n",
       "...             ...  \n",
       "18295      11057895  \n",
       "18296      11595710  \n",
       "18297      11604373  \n",
       "18298      12809828  \n",
       "18299      14023483  \n",
       "\n",
       "[18300 rows x 6 columns]"
      ]
     },
     "execution_count": 21,
     "metadata": {},
     "output_type": "execute_result"
    }
   ],
   "source": [
    "# merging weather_df and attributes_df\n",
    "join1_df=pd.merge(weather_df,attributes_df,how='inner')\n",
    "join1_df"
   ]
  },
  {
   "cell_type": "code",
   "execution_count": 22,
   "id": "d1ebf490",
   "metadata": {},
   "outputs": [
    {
     "data": {
      "text/html": [
       "<div>\n",
       "<style scoped>\n",
       "    .dataframe tbody tr th:only-of-type {\n",
       "        vertical-align: middle;\n",
       "    }\n",
       "\n",
       "    .dataframe tbody tr th {\n",
       "        vertical-align: top;\n",
       "    }\n",
       "\n",
       "    .dataframe thead th {\n",
       "        text-align: right;\n",
       "    }\n",
       "</style>\n",
       "<table border=\"1\" class=\"dataframe\">\n",
       "  <thead>\n",
       "    <tr style=\"text-align: right;\">\n",
       "      <th></th>\n",
       "      <th>GAS_FLOW_DAY</th>\n",
       "      <th>GEO_LOCATION</th>\n",
       "      <th>CWV</th>\n",
       "      <th>SITE_REFERENCE</th>\n",
       "      <th>MARKET_SECTOR_IDENTIFIER</th>\n",
       "      <th>ANNUAL_USAGE</th>\n",
       "      <th>ENERGY_VALUE</th>\n",
       "    </tr>\n",
       "  </thead>\n",
       "  <tbody>\n",
       "    <tr>\n",
       "      <th>0</th>\n",
       "      <td>01/04/2019</td>\n",
       "      <td>SC</td>\n",
       "      <td>5.65</td>\n",
       "      <td>SC01</td>\n",
       "      <td>D</td>\n",
       "      <td>4980</td>\n",
       "      <td>0.00</td>\n",
       "    </tr>\n",
       "    <tr>\n",
       "      <th>1</th>\n",
       "      <td>01/04/2019</td>\n",
       "      <td>SC</td>\n",
       "      <td>5.65</td>\n",
       "      <td>SC02</td>\n",
       "      <td>D</td>\n",
       "      <td>5987</td>\n",
       "      <td>27.77</td>\n",
       "    </tr>\n",
       "    <tr>\n",
       "      <th>2</th>\n",
       "      <td>01/04/2019</td>\n",
       "      <td>SC</td>\n",
       "      <td>5.65</td>\n",
       "      <td>SC03</td>\n",
       "      <td>D</td>\n",
       "      <td>8189</td>\n",
       "      <td>0.00</td>\n",
       "    </tr>\n",
       "    <tr>\n",
       "      <th>3</th>\n",
       "      <td>01/04/2019</td>\n",
       "      <td>SC</td>\n",
       "      <td>5.65</td>\n",
       "      <td>SC04</td>\n",
       "      <td>D</td>\n",
       "      <td>8441</td>\n",
       "      <td>95.29</td>\n",
       "    </tr>\n",
       "    <tr>\n",
       "      <th>4</th>\n",
       "      <td>01/04/2019</td>\n",
       "      <td>SC</td>\n",
       "      <td>5.65</td>\n",
       "      <td>SC05</td>\n",
       "      <td>D</td>\n",
       "      <td>14938</td>\n",
       "      <td>45.44</td>\n",
       "    </tr>\n",
       "    <tr>\n",
       "      <th>...</th>\n",
       "      <td>...</td>\n",
       "      <td>...</td>\n",
       "      <td>...</td>\n",
       "      <td>...</td>\n",
       "      <td>...</td>\n",
       "      <td>...</td>\n",
       "      <td>...</td>\n",
       "    </tr>\n",
       "    <tr>\n",
       "      <th>18297</th>\n",
       "      <td>31/03/2020</td>\n",
       "      <td>WM</td>\n",
       "      <td>6.14</td>\n",
       "      <td>WM21</td>\n",
       "      <td>I</td>\n",
       "      <td>11057895</td>\n",
       "      <td>18655.00</td>\n",
       "    </tr>\n",
       "    <tr>\n",
       "      <th>18298</th>\n",
       "      <td>31/03/2020</td>\n",
       "      <td>WM</td>\n",
       "      <td>6.14</td>\n",
       "      <td>WM22</td>\n",
       "      <td>I</td>\n",
       "      <td>11595710</td>\n",
       "      <td>29870.00</td>\n",
       "    </tr>\n",
       "    <tr>\n",
       "      <th>18299</th>\n",
       "      <td>31/03/2020</td>\n",
       "      <td>WM</td>\n",
       "      <td>6.14</td>\n",
       "      <td>WM23</td>\n",
       "      <td>I</td>\n",
       "      <td>11604373</td>\n",
       "      <td>48279.00</td>\n",
       "    </tr>\n",
       "    <tr>\n",
       "      <th>18300</th>\n",
       "      <td>31/03/2020</td>\n",
       "      <td>WM</td>\n",
       "      <td>6.14</td>\n",
       "      <td>WM24</td>\n",
       "      <td>I</td>\n",
       "      <td>12809828</td>\n",
       "      <td>49046.00</td>\n",
       "    </tr>\n",
       "    <tr>\n",
       "      <th>18301</th>\n",
       "      <td>31/03/2020</td>\n",
       "      <td>WM</td>\n",
       "      <td>6.14</td>\n",
       "      <td>WM25</td>\n",
       "      <td>I</td>\n",
       "      <td>14023483</td>\n",
       "      <td>44986.00</td>\n",
       "    </tr>\n",
       "  </tbody>\n",
       "</table>\n",
       "<p>18302 rows × 7 columns</p>\n",
       "</div>"
      ],
      "text/plain": [
       "      GAS_FLOW_DAY GEO_LOCATION   CWV SITE_REFERENCE MARKET_SECTOR_IDENTIFIER  \\\n",
       "0       01/04/2019           SC  5.65           SC01                        D   \n",
       "1       01/04/2019           SC  5.65           SC02                        D   \n",
       "2       01/04/2019           SC  5.65           SC03                        D   \n",
       "3       01/04/2019           SC  5.65           SC04                        D   \n",
       "4       01/04/2019           SC  5.65           SC05                        D   \n",
       "...            ...          ...   ...            ...                      ...   \n",
       "18297   31/03/2020           WM  6.14           WM21                        I   \n",
       "18298   31/03/2020           WM  6.14           WM22                        I   \n",
       "18299   31/03/2020           WM  6.14           WM23                        I   \n",
       "18300   31/03/2020           WM  6.14           WM24                        I   \n",
       "18301   31/03/2020           WM  6.14           WM25                        I   \n",
       "\n",
       "       ANNUAL_USAGE  ENERGY_VALUE  \n",
       "0              4980          0.00  \n",
       "1              5987         27.77  \n",
       "2              8189          0.00  \n",
       "3              8441         95.29  \n",
       "4             14938         45.44  \n",
       "...             ...           ...  \n",
       "18297      11057895      18655.00  \n",
       "18298      11595710      29870.00  \n",
       "18299      11604373      48279.00  \n",
       "18300      12809828      49046.00  \n",
       "18301      14023483      44986.00  \n",
       "\n",
       "[18302 rows x 7 columns]"
      ]
     },
     "execution_count": 22,
     "metadata": {},
     "output_type": "execute_result"
    }
   ],
   "source": [
    "#final merge \n",
    "join_final=pd.merge(join1_df,gasdemand_df,how= 'outer')\n",
    "join_final"
   ]
  },
  {
   "cell_type": "code",
   "execution_count": 23,
   "id": "e24c9a0d",
   "metadata": {},
   "outputs": [
    {
     "data": {
      "text/html": [
       "<div>\n",
       "<style scoped>\n",
       "    .dataframe tbody tr th:only-of-type {\n",
       "        vertical-align: middle;\n",
       "    }\n",
       "\n",
       "    .dataframe tbody tr th {\n",
       "        vertical-align: top;\n",
       "    }\n",
       "\n",
       "    .dataframe thead th {\n",
       "        text-align: right;\n",
       "    }\n",
       "</style>\n",
       "<table border=\"1\" class=\"dataframe\">\n",
       "  <thead>\n",
       "    <tr style=\"text-align: right;\">\n",
       "      <th></th>\n",
       "      <th>GAS_FLOW_DAY</th>\n",
       "      <th>GEO_LOCATION</th>\n",
       "      <th>CWV</th>\n",
       "      <th>SITE_REFERENCE</th>\n",
       "      <th>MARKET_SECTOR_IDENTIFIER</th>\n",
       "      <th>ANNUAL_USAGE</th>\n",
       "      <th>ENERGY_VALUE</th>\n",
       "    </tr>\n",
       "  </thead>\n",
       "  <tbody>\n",
       "  </tbody>\n",
       "</table>\n",
       "</div>"
      ],
      "text/plain": [
       "Empty DataFrame\n",
       "Columns: [GAS_FLOW_DAY, GEO_LOCATION, CWV, SITE_REFERENCE, MARKET_SECTOR_IDENTIFIER, ANNUAL_USAGE, ENERGY_VALUE]\n",
       "Index: []"
      ]
     },
     "execution_count": 23,
     "metadata": {},
     "output_type": "execute_result"
    }
   ],
   "source": [
    "#Checking for duplicates in final dataframe \n",
    "join_final_dup = join_final[join_final.duplicated()]\n",
    "join_final_dup"
   ]
  },
  {
   "cell_type": "code",
   "execution_count": 24,
   "id": "f36456c1",
   "metadata": {
    "scrolled": true
   },
   "outputs": [
    {
     "data": {
      "text/html": [
       "<div>\n",
       "<style scoped>\n",
       "    .dataframe tbody tr th:only-of-type {\n",
       "        vertical-align: middle;\n",
       "    }\n",
       "\n",
       "    .dataframe tbody tr th {\n",
       "        vertical-align: top;\n",
       "    }\n",
       "\n",
       "    .dataframe thead th {\n",
       "        text-align: right;\n",
       "    }\n",
       "</style>\n",
       "<table border=\"1\" class=\"dataframe\">\n",
       "  <thead>\n",
       "    <tr style=\"text-align: right;\">\n",
       "      <th></th>\n",
       "      <th>GAS_FLOW_DAY</th>\n",
       "      <th>GEO_LOCATION</th>\n",
       "      <th>CWV</th>\n",
       "      <th>SITE_REFERENCE</th>\n",
       "      <th>MARKET_SECTOR_IDENTIFIER</th>\n",
       "      <th>ANNUAL_USAGE</th>\n",
       "      <th>ENERGY_VALUE</th>\n",
       "    </tr>\n",
       "  </thead>\n",
       "  <tbody>\n",
       "    <tr>\n",
       "      <th>4108</th>\n",
       "      <td>12/09/2019</td>\n",
       "      <td>SC</td>\n",
       "      <td>12.64</td>\n",
       "      <td>SC09</td>\n",
       "      <td>D</td>\n",
       "      <td>35211</td>\n",
       "      <td>NaN</td>\n",
       "    </tr>\n",
       "    <tr>\n",
       "      <th>4133</th>\n",
       "      <td>13/09/2019</td>\n",
       "      <td>SC</td>\n",
       "      <td>12.51</td>\n",
       "      <td>SC09</td>\n",
       "      <td>D</td>\n",
       "      <td>35211</td>\n",
       "      <td>NaN</td>\n",
       "    </tr>\n",
       "    <tr>\n",
       "      <th>4158</th>\n",
       "      <td>14/09/2019</td>\n",
       "      <td>SC</td>\n",
       "      <td>12.56</td>\n",
       "      <td>SC09</td>\n",
       "      <td>D</td>\n",
       "      <td>35211</td>\n",
       "      <td>NaN</td>\n",
       "    </tr>\n",
       "    <tr>\n",
       "      <th>4183</th>\n",
       "      <td>15/09/2019</td>\n",
       "      <td>SC</td>\n",
       "      <td>12.19</td>\n",
       "      <td>SC09</td>\n",
       "      <td>D</td>\n",
       "      <td>35211</td>\n",
       "      <td>NaN</td>\n",
       "    </tr>\n",
       "    <tr>\n",
       "      <th>4208</th>\n",
       "      <td>16/09/2019</td>\n",
       "      <td>SC</td>\n",
       "      <td>11.78</td>\n",
       "      <td>SC09</td>\n",
       "      <td>D</td>\n",
       "      <td>35211</td>\n",
       "      <td>NaN</td>\n",
       "    </tr>\n",
       "    <tr>\n",
       "      <th>...</th>\n",
       "      <td>...</td>\n",
       "      <td>...</td>\n",
       "      <td>...</td>\n",
       "      <td>...</td>\n",
       "      <td>...</td>\n",
       "      <td>...</td>\n",
       "      <td>...</td>\n",
       "    </tr>\n",
       "    <tr>\n",
       "      <th>17470</th>\n",
       "      <td>27/02/2020</td>\n",
       "      <td>WM</td>\n",
       "      <td>2.83</td>\n",
       "      <td>WM19</td>\n",
       "      <td>I</td>\n",
       "      <td>7778046</td>\n",
       "      <td>NaN</td>\n",
       "    </tr>\n",
       "    <tr>\n",
       "      <th>17495</th>\n",
       "      <td>28/02/2020</td>\n",
       "      <td>WM</td>\n",
       "      <td>3.29</td>\n",
       "      <td>WM19</td>\n",
       "      <td>I</td>\n",
       "      <td>7778046</td>\n",
       "      <td>NaN</td>\n",
       "    </tr>\n",
       "    <tr>\n",
       "      <th>17520</th>\n",
       "      <td>29/02/2020</td>\n",
       "      <td>WM</td>\n",
       "      <td>3.75</td>\n",
       "      <td>WM19</td>\n",
       "      <td>I</td>\n",
       "      <td>7778046</td>\n",
       "      <td>NaN</td>\n",
       "    </tr>\n",
       "    <tr>\n",
       "      <th>17545</th>\n",
       "      <td>01/03/2020</td>\n",
       "      <td>WM</td>\n",
       "      <td>3.98</td>\n",
       "      <td>WM19</td>\n",
       "      <td>I</td>\n",
       "      <td>7778046</td>\n",
       "      <td>NaN</td>\n",
       "    </tr>\n",
       "    <tr>\n",
       "      <th>17703</th>\n",
       "      <td>08/03/2020</td>\n",
       "      <td>WM</td>\n",
       "      <td>6.20</td>\n",
       "      <td>WM02</td>\n",
       "      <td>D</td>\n",
       "      <td>7021</td>\n",
       "      <td>NaN</td>\n",
       "    </tr>\n",
       "  </tbody>\n",
       "</table>\n",
       "<p>68 rows × 7 columns</p>\n",
       "</div>"
      ],
      "text/plain": [
       "      GAS_FLOW_DAY GEO_LOCATION    CWV SITE_REFERENCE  \\\n",
       "4108    12/09/2019           SC  12.64           SC09   \n",
       "4133    13/09/2019           SC  12.51           SC09   \n",
       "4158    14/09/2019           SC  12.56           SC09   \n",
       "4183    15/09/2019           SC  12.19           SC09   \n",
       "4208    16/09/2019           SC  11.78           SC09   \n",
       "...            ...          ...    ...            ...   \n",
       "17470   27/02/2020           WM   2.83           WM19   \n",
       "17495   28/02/2020           WM   3.29           WM19   \n",
       "17520   29/02/2020           WM   3.75           WM19   \n",
       "17545   01/03/2020           WM   3.98           WM19   \n",
       "17703   08/03/2020           WM   6.20           WM02   \n",
       "\n",
       "      MARKET_SECTOR_IDENTIFIER  ANNUAL_USAGE  ENERGY_VALUE  \n",
       "4108                         D         35211           NaN  \n",
       "4133                         D         35211           NaN  \n",
       "4158                         D         35211           NaN  \n",
       "4183                         D         35211           NaN  \n",
       "4208                         D         35211           NaN  \n",
       "...                        ...           ...           ...  \n",
       "17470                        I       7778046           NaN  \n",
       "17495                        I       7778046           NaN  \n",
       "17520                        I       7778046           NaN  \n",
       "17545                        I       7778046           NaN  \n",
       "17703                        D          7021           NaN  \n",
       "\n",
       "[68 rows x 7 columns]"
      ]
     },
     "execution_count": 24,
     "metadata": {},
     "output_type": "execute_result"
    }
   ],
   "source": [
    "#checking for null values in merged dataframe\n",
    "join_final_null= join_final[join_final.isnull().any(axis=1)]\n",
    "join_final_null"
   ]
  },
  {
   "cell_type": "code",
   "execution_count": 25,
   "id": "3b8a9268",
   "metadata": {},
   "outputs": [
    {
     "data": {
      "text/html": [
       "<div>\n",
       "<style scoped>\n",
       "    .dataframe tbody tr th:only-of-type {\n",
       "        vertical-align: middle;\n",
       "    }\n",
       "\n",
       "    .dataframe tbody tr th {\n",
       "        vertical-align: top;\n",
       "    }\n",
       "\n",
       "    .dataframe thead th {\n",
       "        text-align: right;\n",
       "    }\n",
       "</style>\n",
       "<table border=\"1\" class=\"dataframe\">\n",
       "  <thead>\n",
       "    <tr style=\"text-align: right;\">\n",
       "      <th></th>\n",
       "      <th>GAS_FLOW_DAY</th>\n",
       "      <th>GEO_LOCATION</th>\n",
       "      <th>CWV</th>\n",
       "      <th>SITE_REFERENCE</th>\n",
       "      <th>MARKET_SECTOR_IDENTIFIER</th>\n",
       "      <th>ANNUAL_USAGE</th>\n",
       "      <th>ENERGY_VALUE</th>\n",
       "    </tr>\n",
       "  </thead>\n",
       "  <tbody>\n",
       "  </tbody>\n",
       "</table>\n",
       "</div>"
      ],
      "text/plain": [
       "Empty DataFrame\n",
       "Columns: [GAS_FLOW_DAY, GEO_LOCATION, CWV, SITE_REFERENCE, MARKET_SECTOR_IDENTIFIER, ANNUAL_USAGE, ENERGY_VALUE]\n",
       "Index: []"
      ]
     },
     "execution_count": 25,
     "metadata": {},
     "output_type": "execute_result"
    }
   ],
   "source": [
    "#dropping the final values \n",
    "join_final = join_final.dropna()\n",
    "join_final_null1= join_final[join_final.isnull().any(axis=1)]\n",
    "join_final_null1"
   ]
  },
  {
   "cell_type": "code",
   "execution_count": 53,
   "id": "6466d951",
   "metadata": {},
   "outputs": [
    {
     "data": {
      "text/plain": [
       "-216.0"
      ]
     },
     "execution_count": 53,
     "metadata": {},
     "output_type": "execute_result"
    }
   ],
   "source": [
    "join_final['ENERGY_VALUE'].min()"
   ]
  },
  {
   "cell_type": "code",
   "execution_count": 26,
   "id": "7d6c1e7f",
   "metadata": {},
   "outputs": [],
   "source": [
    "#saving final dataframe as csv\n",
    "join_final.to_csv('csv_files/joined_data.csv')"
   ]
  },
  {
   "cell_type": "code",
   "execution_count": 27,
   "id": "c82382be",
   "metadata": {},
   "outputs": [
    {
     "data": {
      "text/html": [
       "<div>\n",
       "<style scoped>\n",
       "    .dataframe tbody tr th:only-of-type {\n",
       "        vertical-align: middle;\n",
       "    }\n",
       "\n",
       "    .dataframe tbody tr th {\n",
       "        vertical-align: top;\n",
       "    }\n",
       "\n",
       "    .dataframe thead th {\n",
       "        text-align: right;\n",
       "    }\n",
       "</style>\n",
       "<table border=\"1\" class=\"dataframe\">\n",
       "  <thead>\n",
       "    <tr style=\"text-align: right;\">\n",
       "      <th></th>\n",
       "      <th>CWV</th>\n",
       "      <th>ANNUAL_USAGE</th>\n",
       "      <th>ENERGY_VALUE</th>\n",
       "    </tr>\n",
       "  </thead>\n",
       "  <tbody>\n",
       "    <tr>\n",
       "      <th>count</th>\n",
       "      <td>18234.000000</td>\n",
       "      <td>1.823400e+04</td>\n",
       "      <td>18234.000000</td>\n",
       "    </tr>\n",
       "    <tr>\n",
       "      <th>mean</th>\n",
       "      <td>8.767369</td>\n",
       "      <td>4.255996e+06</td>\n",
       "      <td>11524.068661</td>\n",
       "    </tr>\n",
       "    <tr>\n",
       "      <th>std</th>\n",
       "      <td>4.371123</td>\n",
       "      <td>4.750848e+06</td>\n",
       "      <td>15825.935460</td>\n",
       "    </tr>\n",
       "    <tr>\n",
       "      <th>min</th>\n",
       "      <td>0.180000</td>\n",
       "      <td>2.764000e+03</td>\n",
       "      <td>-216.000000</td>\n",
       "    </tr>\n",
       "    <tr>\n",
       "      <th>25%</th>\n",
       "      <td>4.660000</td>\n",
       "      <td>1.635800e+04</td>\n",
       "      <td>32.250000</td>\n",
       "    </tr>\n",
       "    <tr>\n",
       "      <th>50%</th>\n",
       "      <td>8.750000</td>\n",
       "      <td>6.789900e+04</td>\n",
       "      <td>201.415000</td>\n",
       "    </tr>\n",
       "    <tr>\n",
       "      <th>75%</th>\n",
       "      <td>13.300000</td>\n",
       "      <td>7.778046e+06</td>\n",
       "      <td>21682.500000</td>\n",
       "    </tr>\n",
       "    <tr>\n",
       "      <th>max</th>\n",
       "      <td>14.900000</td>\n",
       "      <td>1.402348e+07</td>\n",
       "      <td>103936.000000</td>\n",
       "    </tr>\n",
       "  </tbody>\n",
       "</table>\n",
       "</div>"
      ],
      "text/plain": [
       "                CWV  ANNUAL_USAGE   ENERGY_VALUE\n",
       "count  18234.000000  1.823400e+04   18234.000000\n",
       "mean       8.767369  4.255996e+06   11524.068661\n",
       "std        4.371123  4.750848e+06   15825.935460\n",
       "min        0.180000  2.764000e+03    -216.000000\n",
       "25%        4.660000  1.635800e+04      32.250000\n",
       "50%        8.750000  6.789900e+04     201.415000\n",
       "75%       13.300000  7.778046e+06   21682.500000\n",
       "max       14.900000  1.402348e+07  103936.000000"
      ]
     },
     "execution_count": 27,
     "metadata": {},
     "output_type": "execute_result"
    }
   ],
   "source": [
    "#Summary of CWV,ANNUAL_USAGE and ENERGY_VALUE in the dataframe\n",
    "join_final.describe()"
   ]
  },
  {
   "cell_type": "markdown",
   "id": "6c66aa2b",
   "metadata": {},
   "source": [
    "## Finding Outliers using Boxplot\n",
    "-------------------------------------------------"
   ]
  },
  {
   "cell_type": "markdown",
   "id": "afffa881",
   "metadata": {},
   "source": [
    "### Scotland"
   ]
  },
  {
   "cell_type": "code",
   "execution_count": 28,
   "id": "ba246cf9",
   "metadata": {},
   "outputs": [
    {
     "data": {
      "text/html": [
       "<div>\n",
       "<style scoped>\n",
       "    .dataframe tbody tr th:only-of-type {\n",
       "        vertical-align: middle;\n",
       "    }\n",
       "\n",
       "    .dataframe tbody tr th {\n",
       "        vertical-align: top;\n",
       "    }\n",
       "\n",
       "    .dataframe thead th {\n",
       "        text-align: right;\n",
       "    }\n",
       "</style>\n",
       "<table border=\"1\" class=\"dataframe\">\n",
       "  <thead>\n",
       "    <tr style=\"text-align: right;\">\n",
       "      <th></th>\n",
       "      <th>GAS_FLOW_DAY</th>\n",
       "      <th>GEO_LOCATION</th>\n",
       "      <th>CWV</th>\n",
       "      <th>SITE_REFERENCE</th>\n",
       "      <th>MARKET_SECTOR_IDENTIFIER</th>\n",
       "      <th>ANNUAL_USAGE</th>\n",
       "      <th>ENERGY_VALUE</th>\n",
       "    </tr>\n",
       "  </thead>\n",
       "  <tbody>\n",
       "    <tr>\n",
       "      <th>0</th>\n",
       "      <td>01/04/2019</td>\n",
       "      <td>SC</td>\n",
       "      <td>5.65</td>\n",
       "      <td>SC01</td>\n",
       "      <td>D</td>\n",
       "      <td>4980</td>\n",
       "      <td>0.00</td>\n",
       "    </tr>\n",
       "    <tr>\n",
       "      <th>1</th>\n",
       "      <td>01/04/2019</td>\n",
       "      <td>SC</td>\n",
       "      <td>5.65</td>\n",
       "      <td>SC02</td>\n",
       "      <td>D</td>\n",
       "      <td>5987</td>\n",
       "      <td>27.77</td>\n",
       "    </tr>\n",
       "    <tr>\n",
       "      <th>2</th>\n",
       "      <td>01/04/2019</td>\n",
       "      <td>SC</td>\n",
       "      <td>5.65</td>\n",
       "      <td>SC03</td>\n",
       "      <td>D</td>\n",
       "      <td>8189</td>\n",
       "      <td>0.00</td>\n",
       "    </tr>\n",
       "    <tr>\n",
       "      <th>3</th>\n",
       "      <td>01/04/2019</td>\n",
       "      <td>SC</td>\n",
       "      <td>5.65</td>\n",
       "      <td>SC04</td>\n",
       "      <td>D</td>\n",
       "      <td>8441</td>\n",
       "      <td>95.29</td>\n",
       "    </tr>\n",
       "    <tr>\n",
       "      <th>4</th>\n",
       "      <td>01/04/2019</td>\n",
       "      <td>SC</td>\n",
       "      <td>5.65</td>\n",
       "      <td>SC05</td>\n",
       "      <td>D</td>\n",
       "      <td>14938</td>\n",
       "      <td>45.44</td>\n",
       "    </tr>\n",
       "  </tbody>\n",
       "</table>\n",
       "</div>"
      ],
      "text/plain": [
       "  GAS_FLOW_DAY GEO_LOCATION   CWV SITE_REFERENCE MARKET_SECTOR_IDENTIFIER  \\\n",
       "0   01/04/2019           SC  5.65           SC01                        D   \n",
       "1   01/04/2019           SC  5.65           SC02                        D   \n",
       "2   01/04/2019           SC  5.65           SC03                        D   \n",
       "3   01/04/2019           SC  5.65           SC04                        D   \n",
       "4   01/04/2019           SC  5.65           SC05                        D   \n",
       "\n",
       "   ANNUAL_USAGE  ENERGY_VALUE  \n",
       "0          4980          0.00  \n",
       "1          5987         27.77  \n",
       "2          8189          0.00  \n",
       "3          8441         95.29  \n",
       "4         14938         45.44  "
      ]
     },
     "execution_count": 28,
     "metadata": {},
     "output_type": "execute_result"
    }
   ],
   "source": [
    "#For the final dataframe after join/merge finding outliers in the numerical data columns using seaborn boxplot\n",
    "#grouping the scoatland and west midland seperatley to have a clear picture \n",
    "grouped_geoloc = join_final.groupby('GEO_LOCATION')\n",
    "grouped_sc = grouped_geoloc.get_group('SC')\n",
    "grouped_sc.head()"
   ]
  },
  {
   "cell_type": "code",
   "execution_count": 77,
   "id": "04f93116",
   "metadata": {},
   "outputs": [
    {
     "name": "stderr",
     "output_type": "stream",
     "text": [
      "c:\\users\\arune\\anaconda3\\envs\\datacoursepython\\lib\\site-packages\\seaborn\\_decorators.py:36: FutureWarning: Pass the following variable as a keyword arg: x. From version 0.12, the only valid positional argument will be `data`, and passing other arguments without an explicit keyword will result in an error or misinterpretation.\n",
      "  warnings.warn(\n"
     ]
    },
    {
     "data": {
      "image/png": "[encoded data removed]",
      "text/plain": [
       "<Figure size 432x288 with 1 Axes>"
      ]
     },
     "metadata": {
      "needs_background": "light"
     },
     "output_type": "display_data"
    }
   ],
   "source": [
    "sns.boxplot(grouped_sc['ENERGY_VALUE'])\n",
    "plt.savefig('plot_images/EnergyValue_Boxplot.png')"
   ]
  },
  {
   "cell_type": "markdown",
   "id": "63d280dc",
   "metadata": {},
   "source": [
    "#### Comments - The outliers in the Energy_Value seems to be a lot and are concentrated after the value of 60000. As these are a number of values I did further analysis and below is the scatter plot of ENERGY_VALUE vs SITE_REFERENCE."
   ]
  },
  {
   "cell_type": "code",
   "execution_count": 76,
   "id": "7633e4ab",
   "metadata": {},
   "outputs": [
    {
     "data": {
      "image/png": "[encoded data removed]",
      "text/plain": [
       "<Figure size 864x360 with 1 Axes>"
      ]
     },
     "metadata": {
      "needs_background": "light"
     },
     "output_type": "display_data"
    }
   ],
   "source": [
    "scatter1 = grouped_sc.plot.scatter( 'SITE_REFERENCE' , 'ENERGY_VALUE' ,figsize=(12, 5))\n",
    "plt.savefig('plot_images/EnergyValue_scatter.png')"
   ]
  },
  {
   "cell_type": "markdown",
   "id": "a2e0e74a",
   "metadata": {},
   "source": [
    "#### Comments - The Energy_Value seems to be dependent on Sites and hence the outliers can't be ignored in the data"
   ]
  },
  {
   "cell_type": "code",
   "execution_count": 31,
   "id": "a4deb3f5",
   "metadata": {
    "scrolled": true
   },
   "outputs": [
    {
     "name": "stderr",
     "output_type": "stream",
     "text": [
      "c:\\users\\arune\\anaconda3\\envs\\datacoursepython\\lib\\site-packages\\seaborn\\_decorators.py:36: FutureWarning: Pass the following variable as a keyword arg: x. From version 0.12, the only valid positional argument will be `data`, and passing other arguments without an explicit keyword will result in an error or misinterpretation.\n",
      "  warnings.warn(\n"
     ]
    },
    {
     "data": {
      "image/png": "[encoded data removed]",
      "text/plain": [
       "<Figure size 432x288 with 1 Axes>"
      ]
     },
     "metadata": {
      "needs_background": "light"
     },
     "output_type": "display_data"
    }
   ],
   "source": [
    "sns.boxplot(grouped_sc['CWV'])\n",
    "plt.savefig('plot_images/CWV_Boxplot.png')"
   ]
  },
  {
   "cell_type": "markdown",
   "id": "3c69f130",
   "metadata": {},
   "source": [
    "#### Comments - No Outliers detected in CWV data. "
   ]
  },
  {
   "cell_type": "code",
   "execution_count": 32,
   "id": "e09d25ca",
   "metadata": {},
   "outputs": [
    {
     "name": "stderr",
     "output_type": "stream",
     "text": [
      "c:\\users\\arune\\anaconda3\\envs\\datacoursepython\\lib\\site-packages\\seaborn\\_decorators.py:36: FutureWarning: Pass the following variable as a keyword arg: x. From version 0.12, the only valid positional argument will be `data`, and passing other arguments without an explicit keyword will result in an error or misinterpretation.\n",
      "  warnings.warn(\n"
     ]
    },
    {
     "data": {
      "image/png": "[encoded data removed]",
      "text/plain": [
       "<Figure size 432x288 with 1 Axes>"
      ]
     },
     "metadata": {
      "needs_background": "light"
     },
     "output_type": "display_data"
    }
   ],
   "source": [
    "sns.boxplot(grouped_sc['ANNUAL_USAGE'])\n",
    "plt.savefig('plot_images/ANNUAL_USAGE_Boxplot.png')"
   ]
  },
  {
   "cell_type": "markdown",
   "id": "34b848fe",
   "metadata": {},
   "source": [
    "#### Comments - No oultler detected as annual consumption sitewise seems to be steady"
   ]
  },
  {
   "cell_type": "markdown",
   "id": "06affee4",
   "metadata": {},
   "source": [
    "### West Midlands"
   ]
  },
  {
   "cell_type": "code",
   "execution_count": 33,
   "id": "8b6a358c",
   "metadata": {},
   "outputs": [
    {
     "data": {
      "text/html": [
       "<div>\n",
       "<style scoped>\n",
       "    .dataframe tbody tr th:only-of-type {\n",
       "        vertical-align: middle;\n",
       "    }\n",
       "\n",
       "    .dataframe tbody tr th {\n",
       "        vertical-align: top;\n",
       "    }\n",
       "\n",
       "    .dataframe thead th {\n",
       "        text-align: right;\n",
       "    }\n",
       "</style>\n",
       "<table border=\"1\" class=\"dataframe\">\n",
       "  <thead>\n",
       "    <tr style=\"text-align: right;\">\n",
       "      <th></th>\n",
       "      <th>GAS_FLOW_DAY</th>\n",
       "      <th>GEO_LOCATION</th>\n",
       "      <th>CWV</th>\n",
       "      <th>SITE_REFERENCE</th>\n",
       "      <th>MARKET_SECTOR_IDENTIFIER</th>\n",
       "      <th>ANNUAL_USAGE</th>\n",
       "      <th>ENERGY_VALUE</th>\n",
       "    </tr>\n",
       "  </thead>\n",
       "  <tbody>\n",
       "    <tr>\n",
       "      <th>9152</th>\n",
       "      <td>01/04/2019</td>\n",
       "      <td>WM</td>\n",
       "      <td>8.18</td>\n",
       "      <td>WM01</td>\n",
       "      <td>D</td>\n",
       "      <td>2764</td>\n",
       "      <td>6.96</td>\n",
       "    </tr>\n",
       "    <tr>\n",
       "      <th>9153</th>\n",
       "      <td>01/04/2019</td>\n",
       "      <td>WM</td>\n",
       "      <td>8.18</td>\n",
       "      <td>WM02</td>\n",
       "      <td>D</td>\n",
       "      <td>7021</td>\n",
       "      <td>11.07</td>\n",
       "    </tr>\n",
       "    <tr>\n",
       "      <th>9154</th>\n",
       "      <td>01/04/2019</td>\n",
       "      <td>WM</td>\n",
       "      <td>8.18</td>\n",
       "      <td>WM03</td>\n",
       "      <td>D</td>\n",
       "      <td>8192</td>\n",
       "      <td>20.56</td>\n",
       "    </tr>\n",
       "    <tr>\n",
       "      <th>9155</th>\n",
       "      <td>01/04/2019</td>\n",
       "      <td>WM</td>\n",
       "      <td>8.18</td>\n",
       "      <td>WM04</td>\n",
       "      <td>D</td>\n",
       "      <td>9114</td>\n",
       "      <td>26.26</td>\n",
       "    </tr>\n",
       "    <tr>\n",
       "      <th>9156</th>\n",
       "      <td>01/04/2019</td>\n",
       "      <td>WM</td>\n",
       "      <td>8.18</td>\n",
       "      <td>WM05</td>\n",
       "      <td>D</td>\n",
       "      <td>9416</td>\n",
       "      <td>30.37</td>\n",
       "    </tr>\n",
       "  </tbody>\n",
       "</table>\n",
       "</div>"
      ],
      "text/plain": [
       "     GAS_FLOW_DAY GEO_LOCATION   CWV SITE_REFERENCE MARKET_SECTOR_IDENTIFIER  \\\n",
       "9152   01/04/2019           WM  8.18           WM01                        D   \n",
       "9153   01/04/2019           WM  8.18           WM02                        D   \n",
       "9154   01/04/2019           WM  8.18           WM03                        D   \n",
       "9155   01/04/2019           WM  8.18           WM04                        D   \n",
       "9156   01/04/2019           WM  8.18           WM05                        D   \n",
       "\n",
       "      ANNUAL_USAGE  ENERGY_VALUE  \n",
       "9152          2764          6.96  \n",
       "9153          7021         11.07  \n",
       "9154          8192         20.56  \n",
       "9155          9114         26.26  \n",
       "9156          9416         30.37  "
      ]
     },
     "execution_count": 33,
     "metadata": {},
     "output_type": "execute_result"
    }
   ],
   "source": [
    "#For the final dataframe after join/merge finding outliers in the numerical data columns using seaborn boxplot\n",
    "#grouping the scoatland and west midland seperatley to have a clear picture\n",
    "#westmidalnds outliers\n",
    "\n",
    "grouped_wm = grouped_geoloc.get_group('WM')\n",
    "grouped_wm.head()"
   ]
  },
  {
   "cell_type": "code",
   "execution_count": 34,
   "id": "3b3ab21a",
   "metadata": {},
   "outputs": [
    {
     "name": "stderr",
     "output_type": "stream",
     "text": [
      "c:\\users\\arune\\anaconda3\\envs\\datacoursepython\\lib\\site-packages\\seaborn\\_decorators.py:36: FutureWarning: Pass the following variable as a keyword arg: x. From version 0.12, the only valid positional argument will be `data`, and passing other arguments without an explicit keyword will result in an error or misinterpretation.\n",
      "  warnings.warn(\n"
     ]
    },
    {
     "data": {
      "image/png": "[encoded data removed]",
      "text/plain": [
       "<Figure size 432x288 with 1 Axes>"
      ]
     },
     "metadata": {
      "needs_background": "light"
     },
     "output_type": "display_data"
    }
   ],
   "source": [
    "sns.boxplot(grouped_wm['ENERGY_VALUE'])\n",
    "plt.savefig('plot_images/energyvalue_wm.png')"
   ]
  },
  {
   "cell_type": "markdown",
   "id": "975ba9e6",
   "metadata": {},
   "source": [
    "#### Comments-As there seem to be outliers in this case to visualise the ouliers more clearly and have an idea of what sites is it on a scatter plot is plotted below"
   ]
  },
  {
   "cell_type": "code",
   "execution_count": 35,
   "id": "bb5f5b84",
   "metadata": {},
   "outputs": [
    {
     "data": {
      "image/png": "[encoded data removed]",
      "text/plain": [
       "<Figure size 1080x432 with 1 Axes>"
      ]
     },
     "metadata": {
      "needs_background": "light"
     },
     "output_type": "display_data"
    }
   ],
   "source": [
    "grouped_wm.plot.scatter( 'SITE_REFERENCE' , 'ENERGY_VALUE' ,figsize=(15,6))\n",
    "plt.savefig('plot_images/energyvaluescatter_wm.png')"
   ]
  },
  {
   "cell_type": "markdown",
   "id": "4c640cac",
   "metadata": {},
   "source": [
    "#### Comments- As there are some outliers that seem to have extreme value in the case of WM20,WM21 and WM15 as can be seen from the scatter plot. Further analysis using inter-quartile is done to find exact outliers "
   ]
  },
  {
   "cell_type": "code",
   "execution_count": 36,
   "id": "262ee1ea",
   "metadata": {},
   "outputs": [
    {
     "data": {
      "text/plain": [
       "21565.16"
      ]
     },
     "execution_count": 36,
     "metadata": {},
     "output_type": "execute_result"
    }
   ],
   "source": [
    "# Using IQR for Outliers\n",
    "Q1 = np.percentile(grouped_wm['ENERGY_VALUE'], 25,\n",
    "                   interpolation = 'midpoint')\n",
    " \n",
    "Q3 = np.percentile(grouped_wm['ENERGY_VALUE'], 75,\n",
    "                   interpolation = 'midpoint')\n",
    "\n",
    "IQR = Q3 - Q1\n",
    "IQR "
   ]
  },
  {
   "cell_type": "code",
   "execution_count": 37,
   "id": "eb03f108",
   "metadata": {},
   "outputs": [
    {
     "name": "stdout",
     "output_type": "stream",
     "text": [
      "Upper bound: 53938.24\n",
      "(array([  20,   24,   40,   45,   49,   70,   74,   90,   94,   95,   97,\n",
      "         98,   99,  194,  219,  223,  244,  248,  269,  273,  586,  955,\n",
      "       4611, 5236, 5239, 5240, 5261, 5264, 5265, 5286, 5289, 5311, 5314,\n",
      "       5339, 5364, 5461, 5564, 5586, 5589, 5590, 5611, 5614, 5615, 5636,\n",
      "       5639, 5640, 5661, 5664, 5665, 5689, 5714, 5739, 5761, 5764, 5765,\n",
      "       5786, 5789, 5790, 5814, 5815, 5836, 5839, 5840, 5864, 5889, 5914,\n",
      "       5939, 5964, 5989, 6014, 6038, 6039, 6040, 6064, 6089, 6111, 6114,\n",
      "       6115, 6136, 6139, 6140, 6161, 6164, 6165, 6189, 6190, 6214, 6239,\n",
      "       6264, 6286, 6289, 6290, 6314, 6315, 6336, 6339, 6340, 6364, 6365,\n",
      "       6389, 6414, 6439, 6461, 6464, 6465, 6486, 6489, 6490, 6514, 6515,\n",
      "       6539, 6564, 6589, 6614, 6639, 6664, 6689, 6714, 6739, 6764, 6789,\n",
      "       6814, 6839, 6864, 6889, 6890, 6914, 6915, 6939, 6964, 6989, 6990,\n",
      "       7014, 7039, 7064, 7065, 7089, 7090, 7161, 7164, 7165, 7189, 7190,\n",
      "       7214, 7215, 7239, 7240, 7263, 7264, 7265, 7289, 7313, 7314, 7330,\n",
      "       7336, 7338, 7339, 7340, 7355, 7364, 7365, 7380, 7389, 7390, 7414,\n",
      "       7415, 7439, 7440, 7464, 7489, 7505, 7511, 7514, 7515, 7530, 7536,\n",
      "       7538, 7539, 7540, 7561, 7564, 7565, 7589, 7614, 7639, 7664, 7686,\n",
      "       7689, 7690, 7705, 7711, 7714, 7715, 7736, 7739, 7740, 7761, 7764,\n",
      "       7765, 7789, 7790, 7839, 7855, 7861, 7863, 7864, 7865, 7880, 7886,\n",
      "       7888, 7889, 7890, 7911, 7913, 7914, 7915, 7936, 7939, 7940, 7964,\n",
      "       8036, 8038, 8039, 8040, 8061, 8063, 8064, 8065, 8086, 8089, 8090,\n",
      "       8110, 8112, 8113, 8114, 8137, 8138, 8209, 8210, 8230, 8232, 8233,\n",
      "       8234, 8254, 8256, 8257, 8258, 8278, 8280, 8281, 8282, 8305, 8306,\n",
      "       8352, 8375, 8377, 8378, 8379, 8400, 8402, 8403, 8404, 8425, 8427,\n",
      "       8428, 8429, 8450, 8452, 8453, 8454, 8478, 8479, 8552, 8553, 8599,\n",
      "       8602, 8624, 8627, 8628, 8652, 8653, 8727, 8728, 8802, 8803, 8828,\n",
      "       8903, 9077], dtype=int64),)\n",
      "9104\n"
     ]
    }
   ],
   "source": [
    "# Above Upper bound\n",
    "upper=(Q3+1.5*IQR)\n",
    "upper_bound = grouped_wm['ENERGY_VALUE'] >= (Q3+1.5*IQR)\n",
    " \n",
    "print(\"Upper bound:\",upper)\n",
    "print(np.where(upper_bound))\n",
    "print(len(upper_bound))"
   ]
  },
  {
   "cell_type": "code",
   "execution_count": 38,
   "id": "dcb34f1a",
   "metadata": {},
   "outputs": [
    {
     "name": "stdout",
     "output_type": "stream",
     "text": [
      "Lower bound: -32322.399999999998\n",
      "(array([0], dtype=int64),)\n"
     ]
    }
   ],
   "source": [
    " # Below Lower bound\n",
    "lower = (Q1-1.5*IQR)\n",
    "lower_bound = grouped_wm['ENERGY_VALUE'] <= (Q1-1.5*IQR)\n",
    "print(\"Lower bound:\", lower)\n",
    "print(np.where(lower))"
   ]
  },
  {
   "cell_type": "markdown",
   "id": "f75e3e77",
   "metadata": {},
   "source": [
    "#### Comments - There are a significant number of upper bound outliers in the data and hence can't be deleted as that might skew the dataset. It seems that might be site dependent and the outlier analysis cannot be concluded without more information. No outliers are found in lower bound "
   ]
  },
  {
   "cell_type": "code",
   "execution_count": 39,
   "id": "84b5cda8",
   "metadata": {},
   "outputs": [
    {
     "name": "stderr",
     "output_type": "stream",
     "text": [
      "c:\\users\\arune\\anaconda3\\envs\\datacoursepython\\lib\\site-packages\\seaborn\\_decorators.py:36: FutureWarning: Pass the following variable as a keyword arg: x. From version 0.12, the only valid positional argument will be `data`, and passing other arguments without an explicit keyword will result in an error or misinterpretation.\n",
      "  warnings.warn(\n"
     ]
    },
    {
     "data": {
      "image/png": "[encoded data removed]",
      "text/plain": [
       "<Figure size 432x288 with 1 Axes>"
      ]
     },
     "metadata": {
      "needs_background": "light"
     },
     "output_type": "display_data"
    }
   ],
   "source": [
    "sns.boxplot(grouped_wm['CWV'])\n",
    "plt.savefig('plot_images/CWVwm_Boxplot.png')"
   ]
  },
  {
   "cell_type": "markdown",
   "id": "bf95b588",
   "metadata": {},
   "source": [
    "#### Comments - No outliers deteceted "
   ]
  },
  {
   "cell_type": "code",
   "execution_count": 40,
   "id": "6339d945",
   "metadata": {},
   "outputs": [
    {
     "name": "stderr",
     "output_type": "stream",
     "text": [
      "c:\\users\\arune\\anaconda3\\envs\\datacoursepython\\lib\\site-packages\\seaborn\\_decorators.py:36: FutureWarning: Pass the following variable as a keyword arg: x. From version 0.12, the only valid positional argument will be `data`, and passing other arguments without an explicit keyword will result in an error or misinterpretation.\n",
      "  warnings.warn(\n"
     ]
    },
    {
     "data": {
      "image/png": "[encoded data removed]",
      "text/plain": [
       "<Figure size 432x288 with 1 Axes>"
      ]
     },
     "metadata": {
      "needs_background": "light"
     },
     "output_type": "display_data"
    }
   ],
   "source": [
    "sns.boxplot(grouped_wm['ANNUAL_USAGE'])\n",
    "plt.savefig('plot_images/ANNUAL_USAGEwm_Boxplot.png')"
   ]
  },
  {
   "cell_type": "markdown",
   "id": "bf61cf55",
   "metadata": {},
   "source": [
    "#### Comments - No outliers deteceted "
   ]
  },
  {
   "cell_type": "markdown",
   "id": "14cce0c2",
   "metadata": {},
   "source": [
    "### Highest and Lowest value of Annual Usage , CWV and Average Energy Value "
   ]
  },
  {
   "cell_type": "code",
   "execution_count": 41,
   "id": "c258f4a1",
   "metadata": {},
   "outputs": [
    {
     "name": "stdout",
     "output_type": "stream",
     "text": [
      "Site with maximum annual usage in the given time frame is WM25 and the value is 14023483\n",
      "Site with minimum annual usage in the given time frame is WM01 and the value is 2764\n"
     ]
    }
   ],
   "source": [
    "# Using attributes_df for finding sites with Highest and Lowest value of Annual Usage  \n",
    "max_au = attributes_df['ANNUAL_USAGE'].max()\n",
    "site_max=attributes_df.loc[attributes_df['ANNUAL_USAGE']== max_au ,'SITE_REFERENCE']\n",
    "min_au = attributes_df['ANNUAL_USAGE'].min()\n",
    "site_min=attributes_df.loc[attributes_df['ANNUAL_USAGE']== min_au ,'SITE_REFERENCE']\n",
    "print(f\"Site with maximum annual usage in the given time frame is {site_max[49]} and the value is\\\n",
    " {max_au}\")\n",
    "print(f\"Site with minimum annual usage in the given time frame is {site_min[0]} and the value is\\\n",
    " {min_au}\")"
   ]
  },
  {
   "cell_type": "code",
   "execution_count": 62,
   "id": "fa663a82",
   "metadata": {
    "scrolled": true
   },
   "outputs": [
    {
     "name": "stdout",
     "output_type": "stream",
     "text": [
      "maximum CWV in the given time frame is 14.9 on following days \n",
      "0     29/06/2019\n",
      "1     30/06/2019\n",
      "2     05/07/2019\n",
      "3     17/07/2019\n",
      "4     22/07/2019\n",
      "5     23/07/2019\n",
      "6     24/07/2019\n",
      "7     25/07/2019\n",
      "8     26/07/2019\n",
      "9     27/07/2019\n",
      "10    29/07/2019\n",
      "11    02/08/2019\n",
      "12    03/08/2019\n",
      "13    04/08/2019\n",
      "14    05/08/2019\n",
      "15    08/08/2019\n",
      "16    09/08/2019\n",
      "17    24/08/2019\n",
      "18    25/08/2019\n",
      "19    26/08/2019\n",
      "20    27/08/2019\n",
      "Name: GAS_FLOW_DAY, dtype: object\n",
      "minimum CWV in the given time frame is 0.18 on following days 01/12/2019\n"
     ]
    }
   ],
   "source": [
    "#Using weather_df to find the maximum and minimum CWV\n",
    "max_cwv = weather_df['CWV'].max()\n",
    "day_max=weather_df.loc[weather_df['CWV']== max_cwv ,'GAS_FLOW_DAY']\n",
    "min_cwv = weather_df['CWV'].min()\n",
    "day_min=weather_df.loc[weather_df['CWV']== min_cwv ,'GAS_FLOW_DAY']\n",
    "print(f\"maximum CWV in the given time frame is {max_cwv} on following days \\n{day_max.reset_index(drop=True)}\")\n",
    "print(f\"minimum CWV in the given time frame is {min_cwv} on following days {day_min[488]}\")"
   ]
  },
  {
   "cell_type": "code",
   "execution_count": 68,
   "id": "c1601630",
   "metadata": {},
   "outputs": [
    {
     "name": "stdout",
     "output_type": "stream",
     "text": [
      "maximum ENERGY_VALUE in the given time frame is 103936.0 for the site \n",
      "9247    WM21\n",
      "Name: SITE_REFERENCE, dtype: object\n",
      "minimum ENERGY_VALUE in the given time frame is -216.0 for the site \n",
      "2446    SC22\n",
      "Name: SITE_REFERENCE, dtype: object\n"
     ]
    }
   ],
   "source": [
    "# Using join_final dataframe to find Maximum and minimum Energy Value \n",
    "ENERGY_VALUE = join_final['ENERGY_VALUE'].max()\n",
    "max_ev= join_final['ENERGY_VALUE'].max()\n",
    "site_max1=join_final.loc[join_final['ENERGY_VALUE']== ENERGY_VALUE ,'SITE_REFERENCE']\n",
    "min_ev = join_final['ENERGY_VALUE'].min()\n",
    "site_min1=join_final.loc[join_final['ENERGY_VALUE']== min_ev ,'SITE_REFERENCE']\n",
    "print(f\"maximum ENERGY_VALUE in the given time frame is {max_ev} for the site \\n{site_max1}\")\n",
    "print(f\"minimum ENERGY_VALUE in the given time frame is {min_ev} for the site \\n{site_min1}\")"
   ]
  },
  {
   "cell_type": "markdown",
   "id": "c913e99c",
   "metadata": {},
   "source": [
    "## Relation between CWV and Annual Usage and Energy Value "
   ]
  },
  {
   "cell_type": "markdown",
   "id": "c10bd532",
   "metadata": {},
   "source": [
    "## Scotland"
   ]
  },
  {
   "cell_type": "markdown",
   "id": "e6ad804a",
   "metadata": {},
   "source": [
    "### Relation between CWV Vs Energy_Value "
   ]
  },
  {
   "cell_type": "code",
   "execution_count": 44,
   "id": "ee611502",
   "metadata": {
    "scrolled": true
   },
   "outputs": [
    {
     "name": "stdout",
     "output_type": "stream",
     "text": [
      "Correlation factor for CWV Vs Energy_Value is -0.8049463199365982 indicating a strong neagtive correaltion between the two same can be seen in the plot below\n"
     ]
    }
   ],
   "source": [
    "#finding average value to find correlation and plotting\n",
    "ev_daily = grouped_sc.groupby('GAS_FLOW_DAY')['ENERGY_VALUE'].mean()\n",
    "cwv_daily = grouped_sc.groupby('GAS_FLOW_DAY')['CWV'].mean()\n",
    "print(f\"Correlation factor for CWV Vs Energy_Value is {ev_daily.corr(cwv_daily,method = 'pearson')} \\\n",
    "indicating a strong neagtive correaltion between the two same can be seen in the plot below\")"
   ]
  },
  {
   "cell_type": "code",
   "execution_count": 69,
   "id": "be7cdf5f",
   "metadata": {
    "scrolled": true
   },
   "outputs": [
    {
     "data": {
      "image/png": "[encoded data removed]",
      "text/plain": [
       "<Figure size 800x400 with 1 Axes>"
      ]
     },
     "metadata": {
      "needs_background": "light"
     },
     "output_type": "display_data"
    }
   ],
   "source": [
    "x = cwv_daily\n",
    "y = ev_daily\n",
    "figure(figsize=(10, 5), dpi=80)\n",
    "plt.scatter(x,y)\n",
    "plt.title(\"CWV VS ENERGY VALUE SC\")\n",
    "plt.xlabel(\"CWV\")\n",
    "plt.ylabel(\"ENERGY VALUE\")\n",
    "# finding linear regression values and plotting them on scatter plot\n",
    "rt_slope,rt_int,rt_r,rt_p,rt_std_err = st.linregress(x,y)\n",
    "rt_fit = rt_slope*x + rt_int\n",
    "#plotting\n",
    "plt.plot(x,rt_fit,\"--\")\n",
    "plt.savefig('plot_images/CWV Vs Energy_Value sc')\n",
    "plt.show()"
   ]
  },
  {
   "cell_type": "markdown",
   "id": "c1dec6c7",
   "metadata": {},
   "source": [
    "### Relation between ENERGY VALUE VS ANNUAL USAGE"
   ]
  },
  {
   "cell_type": "code",
   "execution_count": 46,
   "id": "4cc25ba6",
   "metadata": {},
   "outputs": [
    {
     "name": "stdout",
     "output_type": "stream",
     "text": [
      "Correlation factor for ENERGY VALUE VS ANNUAL USAGE is 0.9892948026917135 indicating a strong correaltion between the two same can be seen in the plot below\n"
     ]
    }
   ],
   "source": [
    "#finding average value to plot\n",
    "ev_annual = grouped_sc.groupby('SITE_REFERENCE')['ENERGY_VALUE'].sum()\n",
    "usage_annual = grouped_sc.groupby('SITE_REFERENCE')['ANNUAL_USAGE'].mean()\n",
    "print(f\"Correlation factor for ENERGY VALUE VS ANNUAL USAGE is {ev_annual.corr(usage_annual,method= 'pearson')} \\\n",
    "indicating a strong correaltion between the two same can be seen in the plot below\")"
   ]
  },
  {
   "cell_type": "code",
   "execution_count": 70,
   "id": "4464cd48",
   "metadata": {},
   "outputs": [
    {
     "data": {
      "image/png": "[encoded data removed]",
      "text/plain": [
       "<Figure size 800x400 with 1 Axes>"
      ]
     },
     "metadata": {
      "needs_background": "light"
     },
     "output_type": "display_data"
    }
   ],
   "source": [
    "# plotting and findig line of regression \n",
    "y_an = ev_annual\n",
    "x_an = usage_annual\n",
    "figure(figsize=(10, 5), dpi=80)\n",
    "plt.scatter(x_an,y_an)\n",
    "plt.title(\"ENERGY VALUE VS ANNUAL USAGE SC\")\n",
    "plt.xlabel(\"ANNUAL USAGE\")\n",
    "plt.ylabel(\"ENERGY VALUE\")\n",
    "# finding linear regression values and plotting them on scatter plot\n",
    "rt_slope,rt_int,rt_r,rt_p,rt_std_err = st.linregress(x_an,y_an)\n",
    "rt_fit = rt_slope*x_an + rt_int\n",
    "#plotting\n",
    "plt.plot(x_an,rt_fit,\"--\")\n",
    "plt.savefig('plot_images/ENERGY VALUE VS ANNUAL USAGE SC.png')\n",
    "plt.show()"
   ]
  },
  {
   "cell_type": "markdown",
   "id": "47cb1472",
   "metadata": {},
   "source": [
    "### Relation between CWV VS ANNUAL USAGE"
   ]
  },
  {
   "cell_type": "markdown",
   "id": "f8bb3ce4",
   "metadata": {},
   "source": [
    "As the data provided has CWV for daily value but usage provided is only annual an analysis to find a realtion between the two could not be performed. There is not enough data that can be used to see the correaltion.\n"
   ]
  },
  {
   "cell_type": "markdown",
   "id": "8cbe41a2",
   "metadata": {},
   "source": [
    "## West Midlands "
   ]
  },
  {
   "cell_type": "markdown",
   "id": "8e61b40a",
   "metadata": {},
   "source": [
    "### Relation between CWV Vs Energy_Value "
   ]
  },
  {
   "cell_type": "code",
   "execution_count": 48,
   "id": "33d6ec23",
   "metadata": {},
   "outputs": [
    {
     "name": "stdout",
     "output_type": "stream",
     "text": [
      "Correlation factor for CWV Vs Energy_Value is -0.8385483246713942 indicating a strong neagtive correaltion between the two same can be seen in the plot below\n"
     ]
    }
   ],
   "source": [
    "#uisng the same dataframe as above for westmidlamds grouped_wm\n",
    "ev_daily1 = grouped_wm.groupby('GAS_FLOW_DAY')['ENERGY_VALUE'].mean()\n",
    "cwv_daily1 = grouped_wm.groupby('GAS_FLOW_DAY')['CWV'].mean()\n",
    "print(f\"Correlation factor for CWV Vs Energy_Value is {ev_daily1.corr(cwv_daily1,method = 'pearson')} \\\n",
    "indicating a strong neagtive correaltion between the two same can be seen in the plot below\")"
   ]
  },
  {
   "cell_type": "code",
   "execution_count": 78,
   "id": "c565621a",
   "metadata": {},
   "outputs": [
    {
     "data": {
      "image/png": "[encoded data removed]",
      "text/plain": [
       "<Figure size 800x400 with 1 Axes>"
      ]
     },
     "metadata": {
      "needs_background": "light"
     },
     "output_type": "display_data"
    }
   ],
   "source": [
    "#plotting and finding line of regression \n",
    "x_wm= cwv_daily1\n",
    "y_wm = ev_daily1\n",
    "figure(figsize=(10, 5), dpi=80)\n",
    "plt.scatter(x_wm,y_wm)\n",
    "plt.title(\"CWV VS ENERGY VALUE WM\")\n",
    "plt.xlabel(\"CWV\")\n",
    "plt.ylabel(\"ENERGY VALUE\")\n",
    "# finding linear regression values and plotting them on scatter plot\n",
    "rt_slope,rt_int,rt_r,rt_p,rt_std_err = st.linregress(x_wm,y_wm)\n",
    "rt_fit = rt_slope*x_wm + rt_int\n",
    "#plotting\n",
    "plt.plot(x_wm,rt_fit,\"--\")\n",
    "plt.savefig('plot_images/CWV Vs Energy_Value wm.png')\n",
    "plt.show()\n"
   ]
  },
  {
   "cell_type": "markdown",
   "id": "eeb64781",
   "metadata": {},
   "source": [
    "### Relation between ENERGY VALUE VS ANNUAL USAGE"
   ]
  },
  {
   "cell_type": "code",
   "execution_count": 50,
   "id": "09be78c1",
   "metadata": {
    "scrolled": true
   },
   "outputs": [
    {
     "name": "stdout",
     "output_type": "stream",
     "text": [
      "Correlation factor for ENERGY VALUE VS ANNUAL USAGE is 0.9998382492947824 indicating a strong correaltion between the two same can be seen in the plot below\n"
     ]
    }
   ],
   "source": [
    "ev_annual1 = grouped_wm.groupby('SITE_REFERENCE')['ENERGY_VALUE'].sum()\n",
    "usage_annual1 = grouped_wm.groupby('SITE_REFERENCE')['ANNUAL_USAGE'].mean()\n",
    "print(f\"Correlation factor for ENERGY VALUE VS ANNUAL USAGE is {ev_annual1.corr(usage_annual1,method= 'pearson')} \\\n",
    "indicating a strong correaltion between the two same can be seen in the plot below\")"
   ]
  },
  {
   "cell_type": "code",
   "execution_count": 79,
   "id": "6c732dc0",
   "metadata": {},
   "outputs": [
    {
     "data": {
      "image/png": "[encoded data removed]",
      "text/plain": [
       "<Figure size 800x400 with 1 Axes>"
      ]
     },
     "metadata": {
      "needs_background": "light"
     },
     "output_type": "display_data"
    }
   ],
   "source": [
    "#plotting and finding line of regression \n",
    "y_wm1= ev_annual1\n",
    "x_wm1 = usage_annual1\n",
    "figure(figsize=(10, 5), dpi=80)\n",
    "plt.scatter(x_wm1,y_wm1)\n",
    "plt.title(\"ENERGY VALUE VS ANNUAL USAGE WM\")\n",
    "plt.ylabel(\"ENERGY VALUE\")\n",
    "plt.xlabel(\"ANNUAL USAGE\")\n",
    "# finding linear regression values and plotting them on scatter plot\n",
    "rt_slope,rt_int,rt_r,rt_p,rt_std_err = st.linregress(x_wm1,y_wm1)\n",
    "rt_fit = rt_slope*x_wm1 + rt_int\n",
    "#plotting\n",
    "plt.plot(x_wm1,rt_fit,\"--\")\n",
    "plt.savefig('plot_images/ENERGY VALUE VS ANNUAL USAGE WM')\n",
    "plt.show()\n"
   ]
  },
  {
   "cell_type": "markdown",
   "id": "72d0bcec",
   "metadata": {},
   "source": [
    "### Relation between CWV VS ANNUAL USAGE"
   ]
  },
  {
   "cell_type": "markdown",
   "id": "e5f9eea7",
   "metadata": {},
   "source": [
    "As the data provided has CWV for daily value but usage provided is only annual an analysis to find a realtion between the two could not be performed. There is not enough data that can be used to see the correaltion."
   ]
  },
  {
   "cell_type": "code",
   "execution_count": null,
   "id": "025c7727",
   "metadata": {},
   "outputs": [],
   "source": []
  }
 ],
 "metadata": {
  "kernelspec": {
   "display_name": "Python 3 (ipykernel)",
   "language": "python",
   "name": "python3"
  },
  "language_info": {
   "codemirror_mode": {
    "name": "ipython",
    "version": 3
   },
   "file_extension": ".py",
   "mimetype": "text/x-python",
   "name": "python",
   "nbconvert_exporter": "python",
   "pygments_lexer": "ipython3",
   "version": "3.9.5"
  }
 },
 "nbformat": 4,
 "nbformat_minor": 5
}
